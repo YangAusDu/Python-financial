{
 "cells": [
  {
   "cell_type": "code",
   "execution_count": 8,
   "metadata": {},
   "outputs": [],
   "source": [
    "import quandl\n",
    "import matplotlib.dates as mdates"
   ]
  },
  {
   "cell_type": "code",
   "execution_count": 7,
   "metadata": {},
   "outputs": [
    {
     "name": "stderr",
     "output_type": "stream",
     "text": [
      "//anaconda3/lib/python3.7/site-packages/statsmodels/tools/_testing.py:19: FutureWarning: pandas.util.testing is deprecated. Use the functions in the public API at pandas.testing instead.\n",
      "  import pandas.util.testing as tm\n"
     ]
    }
   ],
   "source": [
    "import matplotlib.pyplot as plt\n",
    "import seaborn as sns\n",
    "import pylab\n",
    "from mpl_finance import candlestick_ohlc\n"
   ]
  },
  {
   "cell_type": "code",
   "execution_count": 9,
   "metadata": {},
   "outputs": [],
   "source": [
    "pylab.rcParams['figure.figsize'] = (15.0, 8.0)"
   ]
  },
  {
   "cell_type": "code",
   "execution_count": 10,
   "metadata": {},
   "outputs": [],
   "source": [
    "QUANDL_KEY = \"Pre8o9Hi1HJmDysWh43i\""
   ]
  },
  {
   "cell_type": "code",
   "execution_count": 11,
   "metadata": {},
   "outputs": [],
   "source": [
    "quandl.ApiConfig.api_key = QUANDL_KEY"
   ]
  },
  {
   "cell_type": "code",
   "execution_count": 12,
   "metadata": {},
   "outputs": [],
   "source": [
    "df = quandl.get(\"EURONEXT/ABN\")"
   ]
  },
  {
   "cell_type": "code",
   "execution_count": 13,
   "metadata": {},
   "outputs": [
    {
     "data": {
      "text/html": [
       "<div>\n",
       "<style scoped>\n",
       "    .dataframe tbody tr th:only-of-type {\n",
       "        vertical-align: middle;\n",
       "    }\n",
       "\n",
       "    .dataframe tbody tr th {\n",
       "        vertical-align: top;\n",
       "    }\n",
       "\n",
       "    .dataframe thead th {\n",
       "        text-align: right;\n",
       "    }\n",
       "</style>\n",
       "<table border=\"1\" class=\"dataframe\">\n",
       "  <thead>\n",
       "    <tr style=\"text-align: right;\">\n",
       "      <th></th>\n",
       "      <th>Open</th>\n",
       "      <th>High</th>\n",
       "      <th>Low</th>\n",
       "      <th>Last</th>\n",
       "      <th>Volume</th>\n",
       "      <th>Turnover</th>\n",
       "    </tr>\n",
       "    <tr>\n",
       "      <th>Date</th>\n",
       "      <th></th>\n",
       "      <th></th>\n",
       "      <th></th>\n",
       "      <th></th>\n",
       "      <th></th>\n",
       "      <th></th>\n",
       "    </tr>\n",
       "  </thead>\n",
       "  <tbody>\n",
       "    <tr>\n",
       "      <th>2019-01-22</th>\n",
       "      <td>22.59</td>\n",
       "      <td>22.640</td>\n",
       "      <td>22.370</td>\n",
       "      <td>22.410</td>\n",
       "      <td>1884449.0</td>\n",
       "      <td>42320169.50</td>\n",
       "    </tr>\n",
       "    <tr>\n",
       "      <th>2019-01-23</th>\n",
       "      <td>22.38</td>\n",
       "      <td>22.750</td>\n",
       "      <td>22.320</td>\n",
       "      <td>22.440</td>\n",
       "      <td>2087965.0</td>\n",
       "      <td>47032940.05</td>\n",
       "    </tr>\n",
       "    <tr>\n",
       "      <th>2019-01-24</th>\n",
       "      <td>22.52</td>\n",
       "      <td>22.540</td>\n",
       "      <td>22.050</td>\n",
       "      <td>22.250</td>\n",
       "      <td>2374489.0</td>\n",
       "      <td>52900265.18</td>\n",
       "    </tr>\n",
       "    <tr>\n",
       "      <th>2019-01-25</th>\n",
       "      <td>22.48</td>\n",
       "      <td>22.490</td>\n",
       "      <td>22.220</td>\n",
       "      <td>22.300</td>\n",
       "      <td>2235265.0</td>\n",
       "      <td>49916242.87</td>\n",
       "    </tr>\n",
       "    <tr>\n",
       "      <th>2019-01-28</th>\n",
       "      <td>22.29</td>\n",
       "      <td>22.330</td>\n",
       "      <td>21.990</td>\n",
       "      <td>22.110</td>\n",
       "      <td>1199039.0</td>\n",
       "      <td>26517806.94</td>\n",
       "    </tr>\n",
       "    <tr>\n",
       "      <th>...</th>\n",
       "      <td>...</td>\n",
       "      <td>...</td>\n",
       "      <td>...</td>\n",
       "      <td>...</td>\n",
       "      <td>...</td>\n",
       "      <td>...</td>\n",
       "    </tr>\n",
       "    <tr>\n",
       "      <th>2020-03-25</th>\n",
       "      <td>9.18</td>\n",
       "      <td>9.370</td>\n",
       "      <td>8.470</td>\n",
       "      <td>8.860</td>\n",
       "      <td>6463589.0</td>\n",
       "      <td>57466671.00</td>\n",
       "    </tr>\n",
       "    <tr>\n",
       "      <th>2020-03-26</th>\n",
       "      <td>8.40</td>\n",
       "      <td>8.608</td>\n",
       "      <td>8.250</td>\n",
       "      <td>8.534</td>\n",
       "      <td>5922506.0</td>\n",
       "      <td>49944267.00</td>\n",
       "    </tr>\n",
       "    <tr>\n",
       "      <th>2020-03-27</th>\n",
       "      <td>8.45</td>\n",
       "      <td>8.466</td>\n",
       "      <td>7.774</td>\n",
       "      <td>8.150</td>\n",
       "      <td>4296877.0</td>\n",
       "      <td>34910020.00</td>\n",
       "    </tr>\n",
       "    <tr>\n",
       "      <th>2020-03-30</th>\n",
       "      <td>7.50</td>\n",
       "      <td>7.750</td>\n",
       "      <td>7.260</td>\n",
       "      <td>7.340</td>\n",
       "      <td>7036208.0</td>\n",
       "      <td>52406782.00</td>\n",
       "    </tr>\n",
       "    <tr>\n",
       "      <th>2020-03-31</th>\n",
       "      <td>7.50</td>\n",
       "      <td>7.584</td>\n",
       "      <td>7.262</td>\n",
       "      <td>7.484</td>\n",
       "      <td>6190413.0</td>\n",
       "      <td>45943420.00</td>\n",
       "    </tr>\n",
       "  </tbody>\n",
       "</table>\n",
       "<p>300 rows × 6 columns</p>\n",
       "</div>"
      ],
      "text/plain": [
       "             Open    High     Low    Last     Volume     Turnover\n",
       "Date                                                             \n",
       "2019-01-22  22.59  22.640  22.370  22.410  1884449.0  42320169.50\n",
       "2019-01-23  22.38  22.750  22.320  22.440  2087965.0  47032940.05\n",
       "2019-01-24  22.52  22.540  22.050  22.250  2374489.0  52900265.18\n",
       "2019-01-25  22.48  22.490  22.220  22.300  2235265.0  49916242.87\n",
       "2019-01-28  22.29  22.330  21.990  22.110  1199039.0  26517806.94\n",
       "...           ...     ...     ...     ...        ...          ...\n",
       "2020-03-25   9.18   9.370   8.470   8.860  6463589.0  57466671.00\n",
       "2020-03-26   8.40   8.608   8.250   8.534  5922506.0  49944267.00\n",
       "2020-03-27   8.45   8.466   7.774   8.150  4296877.0  34910020.00\n",
       "2020-03-30   7.50   7.750   7.260   7.340  7036208.0  52406782.00\n",
       "2020-03-31   7.50   7.584   7.262   7.484  6190413.0  45943420.00\n",
       "\n",
       "[300 rows x 6 columns]"
      ]
     },
     "execution_count": 13,
     "metadata": {},
     "output_type": "execute_result"
    }
   ],
   "source": [
    "df.tail(300)"
   ]
  },
  {
   "cell_type": "code",
   "execution_count": 14,
   "metadata": {},
   "outputs": [
    {
     "data": {
      "text/html": [
       "<div>\n",
       "<style scoped>\n",
       "    .dataframe tbody tr th:only-of-type {\n",
       "        vertical-align: middle;\n",
       "    }\n",
       "\n",
       "    .dataframe tbody tr th {\n",
       "        vertical-align: top;\n",
       "    }\n",
       "\n",
       "    .dataframe thead th {\n",
       "        text-align: right;\n",
       "    }\n",
       "</style>\n",
       "<table border=\"1\" class=\"dataframe\">\n",
       "  <thead>\n",
       "    <tr style=\"text-align: right;\">\n",
       "      <th></th>\n",
       "      <th>Open</th>\n",
       "      <th>High</th>\n",
       "      <th>Low</th>\n",
       "      <th>Last</th>\n",
       "      <th>Volume</th>\n",
       "      <th>Turnover</th>\n",
       "    </tr>\n",
       "    <tr>\n",
       "      <th>Date</th>\n",
       "      <th></th>\n",
       "      <th></th>\n",
       "      <th></th>\n",
       "      <th></th>\n",
       "      <th></th>\n",
       "      <th></th>\n",
       "    </tr>\n",
       "  </thead>\n",
       "  <tbody>\n",
       "    <tr>\n",
       "      <th>2019-01-22</th>\n",
       "      <td>22.59</td>\n",
       "      <td>22.640</td>\n",
       "      <td>22.370</td>\n",
       "      <td>22.410</td>\n",
       "      <td>1884449.0</td>\n",
       "      <td>42320169.50</td>\n",
       "    </tr>\n",
       "    <tr>\n",
       "      <th>2019-01-23</th>\n",
       "      <td>22.38</td>\n",
       "      <td>22.750</td>\n",
       "      <td>22.320</td>\n",
       "      <td>22.440</td>\n",
       "      <td>2087965.0</td>\n",
       "      <td>47032940.05</td>\n",
       "    </tr>\n",
       "    <tr>\n",
       "      <th>2019-01-24</th>\n",
       "      <td>22.52</td>\n",
       "      <td>22.540</td>\n",
       "      <td>22.050</td>\n",
       "      <td>22.250</td>\n",
       "      <td>2374489.0</td>\n",
       "      <td>52900265.18</td>\n",
       "    </tr>\n",
       "    <tr>\n",
       "      <th>2019-01-25</th>\n",
       "      <td>22.48</td>\n",
       "      <td>22.490</td>\n",
       "      <td>22.220</td>\n",
       "      <td>22.300</td>\n",
       "      <td>2235265.0</td>\n",
       "      <td>49916242.87</td>\n",
       "    </tr>\n",
       "    <tr>\n",
       "      <th>2019-01-28</th>\n",
       "      <td>22.29</td>\n",
       "      <td>22.330</td>\n",
       "      <td>21.990</td>\n",
       "      <td>22.110</td>\n",
       "      <td>1199039.0</td>\n",
       "      <td>26517806.94</td>\n",
       "    </tr>\n",
       "    <tr>\n",
       "      <th>...</th>\n",
       "      <td>...</td>\n",
       "      <td>...</td>\n",
       "      <td>...</td>\n",
       "      <td>...</td>\n",
       "      <td>...</td>\n",
       "      <td>...</td>\n",
       "    </tr>\n",
       "    <tr>\n",
       "      <th>2020-03-25</th>\n",
       "      <td>9.18</td>\n",
       "      <td>9.370</td>\n",
       "      <td>8.470</td>\n",
       "      <td>8.860</td>\n",
       "      <td>6463589.0</td>\n",
       "      <td>57466671.00</td>\n",
       "    </tr>\n",
       "    <tr>\n",
       "      <th>2020-03-26</th>\n",
       "      <td>8.40</td>\n",
       "      <td>8.608</td>\n",
       "      <td>8.250</td>\n",
       "      <td>8.534</td>\n",
       "      <td>5922506.0</td>\n",
       "      <td>49944267.00</td>\n",
       "    </tr>\n",
       "    <tr>\n",
       "      <th>2020-03-27</th>\n",
       "      <td>8.45</td>\n",
       "      <td>8.466</td>\n",
       "      <td>7.774</td>\n",
       "      <td>8.150</td>\n",
       "      <td>4296877.0</td>\n",
       "      <td>34910020.00</td>\n",
       "    </tr>\n",
       "    <tr>\n",
       "      <th>2020-03-30</th>\n",
       "      <td>7.50</td>\n",
       "      <td>7.750</td>\n",
       "      <td>7.260</td>\n",
       "      <td>7.340</td>\n",
       "      <td>7036208.0</td>\n",
       "      <td>52406782.00</td>\n",
       "    </tr>\n",
       "    <tr>\n",
       "      <th>2020-03-31</th>\n",
       "      <td>7.50</td>\n",
       "      <td>7.584</td>\n",
       "      <td>7.262</td>\n",
       "      <td>7.484</td>\n",
       "      <td>6190413.0</td>\n",
       "      <td>45943420.00</td>\n",
       "    </tr>\n",
       "  </tbody>\n",
       "</table>\n",
       "<p>300 rows × 6 columns</p>\n",
       "</div>"
      ],
      "text/plain": [
       "             Open    High     Low    Last     Volume     Turnover\n",
       "Date                                                             \n",
       "2019-01-22  22.59  22.640  22.370  22.410  1884449.0  42320169.50\n",
       "2019-01-23  22.38  22.750  22.320  22.440  2087965.0  47032940.05\n",
       "2019-01-24  22.52  22.540  22.050  22.250  2374489.0  52900265.18\n",
       "2019-01-25  22.48  22.490  22.220  22.300  2235265.0  49916242.87\n",
       "2019-01-28  22.29  22.330  21.990  22.110  1199039.0  26517806.94\n",
       "...           ...     ...     ...     ...        ...          ...\n",
       "2020-03-25   9.18   9.370   8.470   8.860  6463589.0  57466671.00\n",
       "2020-03-26   8.40   8.608   8.250   8.534  5922506.0  49944267.00\n",
       "2020-03-27   8.45   8.466   7.774   8.150  4296877.0  34910020.00\n",
       "2020-03-30   7.50   7.750   7.260   7.340  7036208.0  52406782.00\n",
       "2020-03-31   7.50   7.584   7.262   7.484  6190413.0  45943420.00\n",
       "\n",
       "[300 rows x 6 columns]"
      ]
     },
     "execution_count": 14,
     "metadata": {},
     "output_type": "execute_result"
    }
   ],
   "source": [
    "df = df.tail(300)\n",
    "df"
   ]
  },
  {
   "cell_type": "code",
   "execution_count": 16,
   "metadata": {},
   "outputs": [
    {
     "data": {
      "text/plain": [
       "<matplotlib.axes._subplots.AxesSubplot at 0x1a1b937f60>"
      ]
     },
     "execution_count": 16,
     "metadata": {},
     "output_type": "execute_result"
    },
    {
     "data": {
      "image/png": "[encoded data removed]",
      "text/plain": [
       "<Figure size 1080x576 with 1 Axes>"
      ]
     },
     "metadata": {
      "needs_background": "light"
     },
     "output_type": "display_data"
    }
   ],
   "source": [
    "sns.lineplot(data = df_last300,x = df_last300.index, y = \"High\"  )"
   ]
  },
  {
   "cell_type": "code",
   "execution_count": 20,
   "metadata": {},
   "outputs": [],
   "source": [
    "prices = df.Last\n",
    "volumes = df.Volume"
   ]
  },
  {
   "cell_type": "code",
   "execution_count": 50,
   "metadata": {},
   "outputs": [
    {
     "data": {
      "text/plain": [
       "Text(0.5, 1.0, 'ABS volumes from 2019-01 to 2020')"
      ]
     },
     "execution_count": 50,
     "metadata": {},
     "output_type": "execute_result"
    },
    {
     "data": {
      "image/png": "[encoded data removed]",
      "text/plain": [
       "<Figure size 1080x576 with 2 Axes>"
      ]
     },
     "metadata": {
      "needs_background": "light"
     },
     "output_type": "display_data"
    }
   ],
   "source": [
    "ax_prices = plt.subplot2grid((4,4),(0,0),rowspan = 3,colspan = 3)\n",
    "ax_volumes = plt.subplot2grid((4,4),(3,0),colspan = 3)\n",
    "ax_prices.plot(prices.index, prices,label = \"Last\")\n",
    "ax_prices.set_title(\"ANB last price form 2019-01 to 2020-03\")\n",
    "ax_prices.legend()\n",
    "\n",
    "plt.subplots_adjust(wspace = 0.5,hspace = 0.7)\n",
    "\n",
    "ax_volumes.bar(volumes.index, volumes,color = 'red',alpha = 0.7)\n",
    "#ax_volumes.plot(volumes.index, volumes,color = 'green',alpha = 0.8)\n",
    "\n",
    "ax_volumes.set_title(\"ABS volumes from 2019-01 to 2020\")\n"
   ]
  },
  {
   "cell_type": "code",
   "execution_count": 5,
   "metadata": {},
   "outputs": [],
   "source": []
  },
  {
   "cell_type": "code",
   "execution_count": null,
   "metadata": {},
   "outputs": [],
   "source": []
  }
 ],
 "metadata": {
  "kernelspec": {
   "display_name": "Python 3",
   "language": "python",
   "name": "python3"
  },
  "language_info": {
   "codemirror_mode": {
    "name": "ipython",
    "version": 3
   },
   "file_extension": ".py",
   "mimetype": "text/x-python",
   "name": "python",
   "nbconvert_exporter": "python",
   "pygments_lexer": "ipython3",
   "version": "3.7.3"
  }
 },
 "nbformat": 4,
 "nbformat_minor": 2
}
